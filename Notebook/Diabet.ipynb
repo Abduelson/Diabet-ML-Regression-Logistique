{
 "cells": [
  {
   "cell_type": "markdown",
   "id": "f8a43868-f8d9-4473-a9b9-b9f446869e6a",
   "metadata": {},
   "source": [
    "## Projet Final Phase 3: Prediction sur le Diabet"
   ]
  },
  {
   "cell_type": "markdown",
   "id": "3223ce7f-a28e-4e92-9047-1debb2041e20",
   "metadata": {},
   "source": [
    "## Plan de travail\n",
    "\n",
    "1. Compréhension des entreprises\n",
    "2. Compréhension des données\n",
    "3. Préparation des données\n",
    "4. Modèle (Approche itérative)\n",
    "5. Évaluation\n",
    "6. Discussion finale du modèle"
   ]
  },
  {
   "cell_type": "markdown",
   "id": "e1144c7e-f69d-4f6e-a560-c0266baa96a8",
   "metadata": {},
   "source": [
    "# 1.0 Compréhension des entreprises\n",
    "L’objectif de ce projet est d’aider les professionnels de santé à prédire si un patient est susceptible d’avoir le diabète à partir de mesures médicales simples (Stroke, CholCheck, MentHlth, Smoker, Sex, NoDocbcCost, AnyHealthcare, Fruits, Veggies).\n",
    "Cela permet d’anticiper un dépistage ou une prise en charge plus rapide."
   ]
  },
  {
   "cell_type": "markdown",
   "id": "5efd827d-18b8-4b92-b04a-ab038641de54",
   "metadata": {},
   "source": [
    "# 2.0 Compréhension des données\n",
    "Le jeu de données utilisé est \"diabetes_binary_5050split_health_indicators_BRFSS2015\" \n",
    "\n",
    "Il contient :\n",
    "\n",
    "Variables indépendantes : Stroke, CholCheck, MentHlth, Smoker, Sex, NoDocbcCost, AnyHealthcare, Fruits, Veggies…\n",
    "\n",
    "Variable cible : Diabetes_binary (0 = pas de diabète, 1 = diabète).\n",
    "\n",
    "Problème business : prédire correctement les patients à risque (rappel important)."
   ]
  },
  {
   "cell_type": "markdown",
   "id": "741d295b-49d9-4e9e-a319-d37cb2059cf6",
   "metadata": {},
   "source": [
    "# 3. Préparation des données"
   ]
  },
  {
   "cell_type": "markdown",
   "id": "3a124cd4-61c3-4198-b26f-87cebce087d3",
   "metadata": {},
   "source": [
    "#### 3.0 Importation et chargement des données"
   ]
  },
  {
   "cell_type": "code",
   "execution_count": 49,
   "id": "eeae9dc7-200c-46a9-a58c-201bbdf47e5e",
   "metadata": {},
   "outputs": [
    {
     "data": {
      "text/html": [
       "<div>\n",
       "<style scoped>\n",
       "    .dataframe tbody tr th:only-of-type {\n",
       "        vertical-align: middle;\n",
       "    }\n",
       "\n",
       "    .dataframe tbody tr th {\n",
       "        vertical-align: top;\n",
       "    }\n",
       "\n",
       "    .dataframe thead th {\n",
       "        text-align: right;\n",
       "    }\n",
       "</style>\n",
       "<table border=\"1\" class=\"dataframe\">\n",
       "  <thead>\n",
       "    <tr style=\"text-align: right;\">\n",
       "      <th></th>\n",
       "      <th>Diabetes_binary</th>\n",
       "      <th>HighBP</th>\n",
       "      <th>HighChol</th>\n",
       "      <th>CholCheck</th>\n",
       "      <th>BMI</th>\n",
       "      <th>Smoker</th>\n",
       "      <th>Stroke</th>\n",
       "      <th>HeartDiseaseorAttack</th>\n",
       "      <th>PhysActivity</th>\n",
       "      <th>Fruits</th>\n",
       "      <th>...</th>\n",
       "      <th>AnyHealthcare</th>\n",
       "      <th>NoDocbcCost</th>\n",
       "      <th>GenHlth</th>\n",
       "      <th>MentHlth</th>\n",
       "      <th>PhysHlth</th>\n",
       "      <th>DiffWalk</th>\n",
       "      <th>Sex</th>\n",
       "      <th>Age</th>\n",
       "      <th>Education</th>\n",
       "      <th>Income</th>\n",
       "    </tr>\n",
       "  </thead>\n",
       "  <tbody>\n",
       "    <tr>\n",
       "      <th>0</th>\n",
       "      <td>0.0</td>\n",
       "      <td>1.0</td>\n",
       "      <td>0.0</td>\n",
       "      <td>1.0</td>\n",
       "      <td>26.0</td>\n",
       "      <td>0.0</td>\n",
       "      <td>0.0</td>\n",
       "      <td>0.0</td>\n",
       "      <td>1.0</td>\n",
       "      <td>0.0</td>\n",
       "      <td>...</td>\n",
       "      <td>1.0</td>\n",
       "      <td>0.0</td>\n",
       "      <td>3.0</td>\n",
       "      <td>5.0</td>\n",
       "      <td>30.0</td>\n",
       "      <td>0.0</td>\n",
       "      <td>1.0</td>\n",
       "      <td>4.0</td>\n",
       "      <td>6.0</td>\n",
       "      <td>8.0</td>\n",
       "    </tr>\n",
       "    <tr>\n",
       "      <th>1</th>\n",
       "      <td>0.0</td>\n",
       "      <td>1.0</td>\n",
       "      <td>1.0</td>\n",
       "      <td>1.0</td>\n",
       "      <td>26.0</td>\n",
       "      <td>1.0</td>\n",
       "      <td>1.0</td>\n",
       "      <td>0.0</td>\n",
       "      <td>0.0</td>\n",
       "      <td>1.0</td>\n",
       "      <td>...</td>\n",
       "      <td>1.0</td>\n",
       "      <td>0.0</td>\n",
       "      <td>3.0</td>\n",
       "      <td>0.0</td>\n",
       "      <td>0.0</td>\n",
       "      <td>0.0</td>\n",
       "      <td>1.0</td>\n",
       "      <td>12.0</td>\n",
       "      <td>6.0</td>\n",
       "      <td>8.0</td>\n",
       "    </tr>\n",
       "    <tr>\n",
       "      <th>2</th>\n",
       "      <td>0.0</td>\n",
       "      <td>0.0</td>\n",
       "      <td>0.0</td>\n",
       "      <td>1.0</td>\n",
       "      <td>26.0</td>\n",
       "      <td>0.0</td>\n",
       "      <td>0.0</td>\n",
       "      <td>0.0</td>\n",
       "      <td>1.0</td>\n",
       "      <td>1.0</td>\n",
       "      <td>...</td>\n",
       "      <td>1.0</td>\n",
       "      <td>0.0</td>\n",
       "      <td>1.0</td>\n",
       "      <td>0.0</td>\n",
       "      <td>10.0</td>\n",
       "      <td>0.0</td>\n",
       "      <td>1.0</td>\n",
       "      <td>13.0</td>\n",
       "      <td>6.0</td>\n",
       "      <td>8.0</td>\n",
       "    </tr>\n",
       "    <tr>\n",
       "      <th>3</th>\n",
       "      <td>0.0</td>\n",
       "      <td>1.0</td>\n",
       "      <td>1.0</td>\n",
       "      <td>1.0</td>\n",
       "      <td>28.0</td>\n",
       "      <td>1.0</td>\n",
       "      <td>0.0</td>\n",
       "      <td>0.0</td>\n",
       "      <td>1.0</td>\n",
       "      <td>1.0</td>\n",
       "      <td>...</td>\n",
       "      <td>1.0</td>\n",
       "      <td>0.0</td>\n",
       "      <td>3.0</td>\n",
       "      <td>0.0</td>\n",
       "      <td>3.0</td>\n",
       "      <td>0.0</td>\n",
       "      <td>1.0</td>\n",
       "      <td>11.0</td>\n",
       "      <td>6.0</td>\n",
       "      <td>8.0</td>\n",
       "    </tr>\n",
       "    <tr>\n",
       "      <th>4</th>\n",
       "      <td>0.0</td>\n",
       "      <td>0.0</td>\n",
       "      <td>0.0</td>\n",
       "      <td>1.0</td>\n",
       "      <td>29.0</td>\n",
       "      <td>1.0</td>\n",
       "      <td>0.0</td>\n",
       "      <td>0.0</td>\n",
       "      <td>1.0</td>\n",
       "      <td>1.0</td>\n",
       "      <td>...</td>\n",
       "      <td>1.0</td>\n",
       "      <td>0.0</td>\n",
       "      <td>2.0</td>\n",
       "      <td>0.0</td>\n",
       "      <td>0.0</td>\n",
       "      <td>0.0</td>\n",
       "      <td>0.0</td>\n",
       "      <td>8.0</td>\n",
       "      <td>5.0</td>\n",
       "      <td>8.0</td>\n",
       "    </tr>\n",
       "  </tbody>\n",
       "</table>\n",
       "<p>5 rows × 22 columns</p>\n",
       "</div>"
      ],
      "text/plain": [
       "   Diabetes_binary  HighBP  HighChol  CholCheck   BMI  Smoker  Stroke  \\\n",
       "0              0.0     1.0       0.0        1.0  26.0     0.0     0.0   \n",
       "1              0.0     1.0       1.0        1.0  26.0     1.0     1.0   \n",
       "2              0.0     0.0       0.0        1.0  26.0     0.0     0.0   \n",
       "3              0.0     1.0       1.0        1.0  28.0     1.0     0.0   \n",
       "4              0.0     0.0       0.0        1.0  29.0     1.0     0.0   \n",
       "\n",
       "   HeartDiseaseorAttack  PhysActivity  Fruits  ...  AnyHealthcare  \\\n",
       "0                   0.0           1.0     0.0  ...            1.0   \n",
       "1                   0.0           0.0     1.0  ...            1.0   \n",
       "2                   0.0           1.0     1.0  ...            1.0   \n",
       "3                   0.0           1.0     1.0  ...            1.0   \n",
       "4                   0.0           1.0     1.0  ...            1.0   \n",
       "\n",
       "   NoDocbcCost  GenHlth  MentHlth  PhysHlth  DiffWalk  Sex   Age  Education  \\\n",
       "0          0.0      3.0       5.0      30.0       0.0  1.0   4.0        6.0   \n",
       "1          0.0      3.0       0.0       0.0       0.0  1.0  12.0        6.0   \n",
       "2          0.0      1.0       0.0      10.0       0.0  1.0  13.0        6.0   \n",
       "3          0.0      3.0       0.0       3.0       0.0  1.0  11.0        6.0   \n",
       "4          0.0      2.0       0.0       0.0       0.0  0.0   8.0        5.0   \n",
       "\n",
       "   Income  \n",
       "0     8.0  \n",
       "1     8.0  \n",
       "2     8.0  \n",
       "3     8.0  \n",
       "4     8.0  \n",
       "\n",
       "[5 rows x 22 columns]"
      ]
     },
     "execution_count": 49,
     "metadata": {},
     "output_type": "execute_result"
    }
   ],
   "source": [
    "#importations des bibliotèque et modules \n",
    "import pandas as pd\n",
    "import numpy as np\n",
    "import seaborn as sns\n",
    "from sklearn.linear_model import LogisticRegression \n",
    "from sklearn.model_selection import train_test_split,GridSearchCV\n",
    "from sklearn.preprocessing import StandardScaler\n",
    "from sklearn.metrics import classification_report, confusion_matrix, accuracy_score\n",
    "from sklearn.tree import DecisionTreeClassifier\n",
    "import matplotlib.pyplot as plt\n",
    "\n",
    "#chargons les données du jeu de donnée\n",
    "df = pd.read_csv(\"diabetes_binary_5050split_health_indicators_BRFSS2015.csv\")\n",
    "df.head()"
   ]
  },
  {
   "cell_type": "markdown",
   "id": "7a382b0c-62e4-419b-bc60-ab0c60b1c9ee",
   "metadata": {},
   "source": [
    "#### 3.1 Vérification des valeurs manquantes et les types."
   ]
  },
  {
   "cell_type": "code",
   "execution_count": 5,
   "id": "3273e263-2c3c-4b0a-8439-c9f748e9ae87",
   "metadata": {},
   "outputs": [
    {
     "name": "stdout",
     "output_type": "stream",
     "text": [
      "<class 'pandas.core.frame.DataFrame'>\n",
      "RangeIndex: 70692 entries, 0 to 70691\n",
      "Data columns (total 22 columns):\n",
      " #   Column                Non-Null Count  Dtype  \n",
      "---  ------                --------------  -----  \n",
      " 0   Diabetes_binary       70692 non-null  float64\n",
      " 1   HighBP                70692 non-null  float64\n",
      " 2   HighChol              70692 non-null  float64\n",
      " 3   CholCheck             70692 non-null  float64\n",
      " 4   BMI                   70692 non-null  float64\n",
      " 5   Smoker                70692 non-null  float64\n",
      " 6   Stroke                70692 non-null  float64\n",
      " 7   HeartDiseaseorAttack  70692 non-null  float64\n",
      " 8   PhysActivity          70692 non-null  float64\n",
      " 9   Fruits                70692 non-null  float64\n",
      " 10  Veggies               70692 non-null  float64\n",
      " 11  HvyAlcoholConsump     70692 non-null  float64\n",
      " 12  AnyHealthcare         70692 non-null  float64\n",
      " 13  NoDocbcCost           70692 non-null  float64\n",
      " 14  GenHlth               70692 non-null  float64\n",
      " 15  MentHlth              70692 non-null  float64\n",
      " 16  PhysHlth              70692 non-null  float64\n",
      " 17  DiffWalk              70692 non-null  float64\n",
      " 18  Sex                   70692 non-null  float64\n",
      " 19  Age                   70692 non-null  float64\n",
      " 20  Education             70692 non-null  float64\n",
      " 21  Income                70692 non-null  float64\n",
      "dtypes: float64(22)\n",
      "memory usage: 11.9 MB\n"
     ]
    }
   ],
   "source": [
    "df.info()"
   ]
  },
  {
   "cell_type": "markdown",
   "id": "c2fa9cb6-c081-48dd-8f58-b7dfefdf8b3f",
   "metadata": {},
   "source": [
    "##### *Remarque*: Le jeu de donnée a 70692 enregistrements et ne contient pas de valeur mannquantes, toutes les variables sont de type float"
   ]
  },
  {
   "cell_type": "markdown",
   "id": "1ad9d795-0d92-4873-8dcd-0328e0bb48b8",
   "metadata": {},
   "source": [
    "#### 3.2 A fin de supprimer les variables qui n'ont pas vraiment d'influence sur \"Diabetes_binary\" on va justement verifier la corrélations"
   ]
  },
  {
   "cell_type": "code",
   "execution_count": 7,
   "id": "7d4a5923-dfa5-445f-9c43-2eea1eeef1f2",
   "metadata": {},
   "outputs": [
    {
     "name": "stdout",
     "output_type": "stream",
     "text": [
      "Diabetes_binary         1.000000\n",
      "GenHlth                 0.407612\n",
      "HighBP                  0.381516\n",
      "BMI                     0.293373\n",
      "HighChol                0.289213\n",
      "Age                     0.278738\n",
      "DiffWalk                0.272646\n",
      "PhysHlth                0.213081\n",
      "HeartDiseaseorAttack    0.211523\n",
      "Stroke                  0.125427\n",
      "CholCheck               0.115382\n",
      "MentHlth                0.087029\n",
      "Smoker                  0.085999\n",
      "Sex                     0.044413\n",
      "NoDocbcCost             0.040977\n",
      "AnyHealthcare           0.023191\n",
      "Fruits                 -0.054077\n",
      "Veggies                -0.079293\n",
      "HvyAlcoholConsump      -0.094853\n",
      "PhysActivity           -0.158666\n",
      "Education              -0.170481\n",
      "Income                 -0.224449\n",
      "Name: Diabetes_binary, dtype: float64\n"
     ]
    }
   ],
   "source": [
    "# Calcul des corrélations\n",
    "df_core = df.corr()[\"Diabetes_binary\"].sort_values(ascending = False)\n",
    "print(df_core)"
   ]
  },
  {
   "cell_type": "markdown",
   "id": "7eaa951c-0af3-48b3-a7ed-7b42d2d51bf8",
   "metadata": {},
   "source": [
    "#### 3.3 Supprimons les variables les moins impactants\n"
   ]
  },
  {
   "cell_type": "code",
   "execution_count": 9,
   "id": "5a96173d-c645-4b7d-a72f-22e41bb9927f",
   "metadata": {},
   "outputs": [],
   "source": [
    "#Avant de faire la suppression, on va faire une copie du jeu de donnéé\n",
    "df_copy = df.copy()"
   ]
  },
  {
   "cell_type": "code",
   "execution_count": 11,
   "id": "e923286f-8890-44df-864c-d76edd4d999f",
   "metadata": {},
   "outputs": [],
   "source": [
    "#Supprimer les colonnes\n",
    "df_copy = df_copy.drop([\"Stroke\", \"CholCheck\", \"MentHlth\", \"Smoker\", \"Sex\", \"NoDocbcCost\", \"AnyHealthcare\", \"Fruits\", \"Veggies\"], axis=1)"
   ]
  },
  {
   "cell_type": "code",
   "execution_count": 13,
   "id": "552c0241-1086-48a7-80c2-6581006b19ec",
   "metadata": {},
   "outputs": [
    {
     "data": {
      "text/html": [
       "<div>\n",
       "<style scoped>\n",
       "    .dataframe tbody tr th:only-of-type {\n",
       "        vertical-align: middle;\n",
       "    }\n",
       "\n",
       "    .dataframe tbody tr th {\n",
       "        vertical-align: top;\n",
       "    }\n",
       "\n",
       "    .dataframe thead th {\n",
       "        text-align: right;\n",
       "    }\n",
       "</style>\n",
       "<table border=\"1\" class=\"dataframe\">\n",
       "  <thead>\n",
       "    <tr style=\"text-align: right;\">\n",
       "      <th></th>\n",
       "      <th>Diabetes_binary</th>\n",
       "      <th>HighBP</th>\n",
       "      <th>HighChol</th>\n",
       "      <th>BMI</th>\n",
       "      <th>HeartDiseaseorAttack</th>\n",
       "      <th>PhysActivity</th>\n",
       "      <th>HvyAlcoholConsump</th>\n",
       "      <th>GenHlth</th>\n",
       "      <th>PhysHlth</th>\n",
       "      <th>DiffWalk</th>\n",
       "      <th>Age</th>\n",
       "      <th>Education</th>\n",
       "      <th>Income</th>\n",
       "    </tr>\n",
       "  </thead>\n",
       "  <tbody>\n",
       "    <tr>\n",
       "      <th>0</th>\n",
       "      <td>0.0</td>\n",
       "      <td>1.0</td>\n",
       "      <td>0.0</td>\n",
       "      <td>26.0</td>\n",
       "      <td>0.0</td>\n",
       "      <td>1.0</td>\n",
       "      <td>0.0</td>\n",
       "      <td>3.0</td>\n",
       "      <td>30.0</td>\n",
       "      <td>0.0</td>\n",
       "      <td>4.0</td>\n",
       "      <td>6.0</td>\n",
       "      <td>8.0</td>\n",
       "    </tr>\n",
       "    <tr>\n",
       "      <th>1</th>\n",
       "      <td>0.0</td>\n",
       "      <td>1.0</td>\n",
       "      <td>1.0</td>\n",
       "      <td>26.0</td>\n",
       "      <td>0.0</td>\n",
       "      <td>0.0</td>\n",
       "      <td>0.0</td>\n",
       "      <td>3.0</td>\n",
       "      <td>0.0</td>\n",
       "      <td>0.0</td>\n",
       "      <td>12.0</td>\n",
       "      <td>6.0</td>\n",
       "      <td>8.0</td>\n",
       "    </tr>\n",
       "    <tr>\n",
       "      <th>2</th>\n",
       "      <td>0.0</td>\n",
       "      <td>0.0</td>\n",
       "      <td>0.0</td>\n",
       "      <td>26.0</td>\n",
       "      <td>0.0</td>\n",
       "      <td>1.0</td>\n",
       "      <td>0.0</td>\n",
       "      <td>1.0</td>\n",
       "      <td>10.0</td>\n",
       "      <td>0.0</td>\n",
       "      <td>13.0</td>\n",
       "      <td>6.0</td>\n",
       "      <td>8.0</td>\n",
       "    </tr>\n",
       "    <tr>\n",
       "      <th>3</th>\n",
       "      <td>0.0</td>\n",
       "      <td>1.0</td>\n",
       "      <td>1.0</td>\n",
       "      <td>28.0</td>\n",
       "      <td>0.0</td>\n",
       "      <td>1.0</td>\n",
       "      <td>0.0</td>\n",
       "      <td>3.0</td>\n",
       "      <td>3.0</td>\n",
       "      <td>0.0</td>\n",
       "      <td>11.0</td>\n",
       "      <td>6.0</td>\n",
       "      <td>8.0</td>\n",
       "    </tr>\n",
       "    <tr>\n",
       "      <th>4</th>\n",
       "      <td>0.0</td>\n",
       "      <td>0.0</td>\n",
       "      <td>0.0</td>\n",
       "      <td>29.0</td>\n",
       "      <td>0.0</td>\n",
       "      <td>1.0</td>\n",
       "      <td>0.0</td>\n",
       "      <td>2.0</td>\n",
       "      <td>0.0</td>\n",
       "      <td>0.0</td>\n",
       "      <td>8.0</td>\n",
       "      <td>5.0</td>\n",
       "      <td>8.0</td>\n",
       "    </tr>\n",
       "  </tbody>\n",
       "</table>\n",
       "</div>"
      ],
      "text/plain": [
       "   Diabetes_binary  HighBP  HighChol   BMI  HeartDiseaseorAttack  \\\n",
       "0              0.0     1.0       0.0  26.0                   0.0   \n",
       "1              0.0     1.0       1.0  26.0                   0.0   \n",
       "2              0.0     0.0       0.0  26.0                   0.0   \n",
       "3              0.0     1.0       1.0  28.0                   0.0   \n",
       "4              0.0     0.0       0.0  29.0                   0.0   \n",
       "\n",
       "   PhysActivity  HvyAlcoholConsump  GenHlth  PhysHlth  DiffWalk   Age  \\\n",
       "0           1.0                0.0      3.0      30.0       0.0   4.0   \n",
       "1           0.0                0.0      3.0       0.0       0.0  12.0   \n",
       "2           1.0                0.0      1.0      10.0       0.0  13.0   \n",
       "3           1.0                0.0      3.0       3.0       0.0  11.0   \n",
       "4           1.0                0.0      2.0       0.0       0.0   8.0   \n",
       "\n",
       "   Education  Income  \n",
       "0        6.0     8.0  \n",
       "1        6.0     8.0  \n",
       "2        6.0     8.0  \n",
       "3        6.0     8.0  \n",
       "4        5.0     8.0  "
      ]
     },
     "execution_count": 13,
     "metadata": {},
     "output_type": "execute_result"
    }
   ],
   "source": [
    "df_copy.head()"
   ]
  },
  {
   "cell_type": "markdown",
   "id": "b6c07a70-319c-4b45-bb18-b71e4bccb715",
   "metadata": {},
   "source": [
    "#### 3.4 Verifions les outliers pour les variables qui ont des valeurs binaire (0 et 1 ) "
   ]
  },
  {
   "cell_type": "code",
   "execution_count": 15,
   "id": "bcda9fdc-6841-4c6f-9da4-ae7afca6a65b",
   "metadata": {},
   "outputs": [
    {
     "data": {
      "image/png": "[encoded data removed]",
      "text/plain": [
       "<Figure size 1008x576 with 4 Axes>"
      ]
     },
     "metadata": {
      "needs_background": "light"
     },
     "output_type": "display_data"
    }
   ],
   "source": [
    "# Mettons ces variables dans Var_Outlier\n",
    "var_outlier = [\"BMI\", \"PhysHlth\", \"Age\", \"Income\"]\n",
    "df_var_outlier = df[var_outlier]\n",
    "\n",
    "#Faisons le graphe\n",
    "plt.figure(figsize=(14,8))\n",
    "\n",
    "#Faisons un loop pour eviter la repition\n",
    "for i,var in enumerate(var_outlier,1):\n",
    "    plt.subplot(2,2,i)\n",
    "    plt.boxplot(df_var_outlier[var])\n",
    "    plt.title(f'Boxplot de {var}')\n",
    "    plt.ylabel('Valeur')\n",
    "\n",
    "plt.tight_layout()\n",
    "plt.show()"
   ]
  },
  {
   "cell_type": "markdown",
   "id": "0fcc4944-1d50-48fd-8925-25414ed8c3c4",
   "metadata": {},
   "source": [
    "#### *Remarque et conseil*\n",
    "1. Le BMI a beaucoup d'outlier allant au-dessus de 45-50,ce n'est pas un probleme par ce que le BMI(Indice de Masse Corporelle) est fortement lié à l’obésité \n",
    "2. Le PhysHlth a des gens qui ont fais 0 jours malade et certains > 20 jours. Cela reflète un comportement réel (peu de gens malades longtemps).\n"
   ]
  },
  {
   "cell_type": "markdown",
   "id": "b6bef834-7d72-40d0-acef-dcef5049616f",
   "metadata": {},
   "source": [
    "#### 3.5 Definir X (varibles independante) et y(variable dependannte) \n"
   ]
  },
  {
   "cell_type": "code",
   "execution_count": 17,
   "id": "2c9ea038-afe0-4d3a-96dd-f680cc9a1cdc",
   "metadata": {},
   "outputs": [],
   "source": [
    "# Definir X\n",
    "X = df_copy.drop([\"Diabetes_binary\"], axis=1)\n",
    "\n",
    "# Definir y\n",
    "y = df_copy[\"Diabetes_binary\"]\n",
    "\n",
    "#Normalisation\n",
    "scaler = StandardScaler()\n",
    "X_scaler = scaler.fit_transform(X)\n",
    "\n",
    "#Split train/test\n",
    "X_train,X_test,y_train,y_test = train_test_split(X_scaler,y,test_size=0.2,random_state=42,stratify=y)"
   ]
  },
  {
   "cell_type": "markdown",
   "id": "ffab6a23-7697-44e7-95a2-643c4c432152",
   "metadata": {},
   "source": [
    "# 4. Modèle (Approche itérative)"
   ]
  },
  {
   "cell_type": "code",
   "execution_count": 19,
   "id": "e860dbf1-9aa9-403e-ba56-070f2dba51a8",
   "metadata": {},
   "outputs": [],
   "source": [
    "#créer un objet model regrssion logistique\n",
    "reg_log = LogisticRegression(max_iter=1000)\n",
    "\n",
    "#entrainer notre model\n",
    "reg_log.fit(X_train,y_train)\n",
    "\n",
    "#Predire notre model\n",
    "y_pred = reg_log.predict(X_test)"
   ]
  },
  {
   "cell_type": "markdown",
   "id": "ce30cba5-2397-42c0-a380-e5f85223ec8a",
   "metadata": {},
   "source": [
    "# 5. Evaluation du modèle"
   ]
  },
  {
   "cell_type": "code",
   "execution_count": 43,
   "id": "37b7471f-0d34-460c-8ed5-fd22c3396428",
   "metadata": {},
   "outputs": [
    {
     "name": "stdout",
     "output_type": "stream",
     "text": [
      "Accuracy : 0.7438291251149304\n",
      "Matrice de confusion : [[5139 1931]\n",
      " [1691 5378]]\n",
      "Rapport de classification :               precision    recall  f1-score   support\n",
      "\n",
      "         0.0       0.75      0.73      0.74      7070\n",
      "         1.0       0.74      0.76      0.75      7069\n",
      "\n",
      "    accuracy                           0.74     14139\n",
      "   macro avg       0.74      0.74      0.74     14139\n",
      "weighted avg       0.74      0.74      0.74     14139\n",
      "\n"
     ]
    }
   ],
   "source": [
    "#Accuracy taux de bonne prediction\n",
    "acc = accuracy_score(y_test,y_pred)\n",
    "print(\"Accuracy :\", acc)\n",
    "\n",
    "#Matrice de confusion\n",
    "mc = confusion_matrix(y_test, y_pred)\n",
    "print(\"Matrice de confusion :\", mc)\n",
    "\n",
    "#Rapport de classification (Precision, Recall, F1-score)\n",
    "print(\"Rapport de classification :\" , classification_report(y_test,y_pred))"
   ]
  },
  {
   "cell_type": "markdown",
   "id": "ecc020d9-7b7e-49c9-a76c-1ab605d3fcde",
   "metadata": {},
   "source": [
    "## Choisir une autre (Arbre de Décision) modèle "
   ]
  },
  {
   "cell_type": "code",
   "execution_count": 55,
   "id": "a266187e-85e2-46c5-8697-f060863624b6",
   "metadata": {},
   "outputs": [
    {
     "name": "stdout",
     "output_type": "stream",
     "text": [
      "=== Arbre de Décision (Optimisé) ===\n",
      "Accuracy : 0.7136996958766533\n",
      "Meilleurs hyperparamètres : {'max_depth': 3, 'min_samples_split': 2}\n",
      "[[4155 2915]\n",
      " [1133 5936]]\n",
      "              precision    recall  f1-score   support\n",
      "\n",
      "         0.0       0.79      0.59      0.67      7070\n",
      "         1.0       0.67      0.84      0.75      7069\n",
      "\n",
      "    accuracy                           0.71     14139\n",
      "   macro avg       0.73      0.71      0.71     14139\n",
      "weighted avg       0.73      0.71      0.71     14139\n",
      "\n"
     ]
    }
   ],
   "source": [
    "params = {\"max_depth\": [3, 5, 7], \"min_samples_split\": [2, 5, 10]}\n",
    "grid_tree = GridSearchCV(DecisionTreeClassifier(random_state=42), params, cv=5, scoring=\"recall\")\n",
    "grid_tree.fit(X_train, y_train)\n",
    "\n",
    "y_pred_tree = grid_tree.predict(X_test)\n",
    "\n",
    "#Accuracy taux de bonne prediction\n",
    "acc = accuracy_score(y_test,y_pred_tree)\n",
    "\n",
    "print(\"=== Arbre de Décision (Optimisé) ===\")\n",
    "print(\"Accuracy :\", acc)\n",
    "print(\"Meilleurs hyperparamètres :\", grid_tree.best_params_)\n",
    "print(confusion_matrix(y_test, y_pred_tree))\n",
    "print(classification_report(y_test, y_pred_tree))\n"
   ]
  },
  {
   "cell_type": "markdown",
   "id": "6ffeb597-64a2-44d3-bd9d-bf2a3c6bb2c9",
   "metadata": {},
   "source": [
    "## Tracons le graphe pour determiner qui est le plus performant!"
   ]
  },
  {
   "cell_type": "code",
   "execution_count": 61,
   "id": "eb9072a6-2987-49cd-9fb9-887871ce038c",
   "metadata": {},
   "outputs": [
    {
     "data": {
      "image/png": "[encoded data removed]",
      "text/plain": [
       "<Figure size 504x360 with 1 Axes>"
      ]
     },
     "metadata": {
      "needs_background": "light"
     },
     "output_type": "display_data"
    }
   ],
   "source": [
    "from sklearn.metrics import roc_curve, roc_auc_score\n",
    "import matplotlib.pyplot as plt\n",
    "\n",
    "# ----- Logistic Regression -----\n",
    "y_proba_log = reg_log.predict_proba(X_test)[:,1]  # probabilité classe 1\n",
    "fpr_log, tpr_log, _ = roc_curve(y_test, y_proba_log)\n",
    "auc_log = roc_auc_score(y_test, y_proba_log)\n",
    "\n",
    "# ----- Decision Tree -----\n",
    "y_proba_tree = grid_tree.best_estimator_.predict_proba(X_test)[:,1]\n",
    "fpr_tree, tpr_tree, _ = roc_curve(y_test, y_proba_tree)\n",
    "auc_tree = roc_auc_score(y_test, y_proba_tree)\n",
    "\n",
    "# ----- Tracé -----\n",
    "plt.figure(figsize=(7,5))\n",
    "plt.plot(fpr_log, tpr_log, label=f\"Logistic Regression (AUC = {auc_log:.2f})\")\n",
    "plt.plot(fpr_tree, tpr_tree, label=f\"Decision Tree (AUC = {auc_tree:.2f})\")\n",
    "plt.plot([0,1], [0,1], 'k--', label=\"Hasard (AUC=0.5)\")\n",
    "\n",
    "plt.xlabel(\"Taux de Faux Positifs (FPR)\")\n",
    "plt.ylabel(\"Taux de Vrais Positifs (TPR)\")\n",
    "plt.title(\"Courbe ROC - Comparaison des Modèles\")\n",
    "plt.legend()\n",
    "plt.show()\n"
   ]
  },
  {
   "cell_type": "markdown",
   "id": "d3d91ccc-3bfb-4407-abc9-feeec308c827",
   "metadata": {},
   "source": [
    "# Conclusion: \n",
    "#### Dans le graphe on constate que le model Regression Logistique est très equilibré et a une AUC forte qui depasse le model Arbre de Décision, ce qui prouve qu'il est meilleur mais en se basant sur notre obectif de \"trouver les patients qui sont Diabetique\" avec un (Recall = 0.84). ,alors notre choix est sans doute le model Arbre de Décision"
   ]
  }
 ],
 "metadata": {
  "kernelspec": {
   "display_name": "Python [conda env:learn-env]",
   "language": "python",
   "name": "conda-env-learn-env-py"
  },
  "language_info": {
   "codemirror_mode": {
    "name": "ipython",
    "version": 3
   },
   "file_extension": ".py",
   "mimetype": "text/x-python",
   "name": "python",
   "nbconvert_exporter": "python",
   "pygments_lexer": "ipython3",
   "version": "3.8.5"
  }
 },
 "nbformat": 4,
 "nbformat_minor": 5
}
